{
 "cells": [
  {
   "cell_type": "markdown",
   "metadata": {},
   "source": [
    "# Project 1: Photo Filters"
   ]
  },
  {
   "cell_type": "markdown",
   "metadata": {},
   "source": [
    "## Project on single file:"
   ]
  },
  {
   "cell_type": "code",
   "execution_count": 2,
   "metadata": {},
   "outputs": [],
   "source": [
    "# glob is used to see what files are in the \"input\" folder\n",
    "from glob import glob\n",
    "# Opencv is used to read each file on a matrix of pixels\n",
    "import cv2\n",
    "# Need a function where the input is the folder name and the output is a list of arrays\n",
    "\n",
    "def run_project(input_folder, output_folder, filter_type):\n",
    "### Function 1:\n",
    "    # Returns a list of names in list files. \n",
    "    files = glob(input_folder + \"/*\")\n",
    "    \n",
    "    single_file_path = files[0]\n",
    "\n",
    "    # Reads file at specified index position (returns an array)\n",
    "    img = cv2.imread(single_file_path)\n",
    "\n",
    "### Function 2:\n",
    "    # Applies the black/white filter to specified file\n",
    "    #if filter_type == \"gray\":\n",
    "    gray = cv2.cvtColor(img, cv2.COLOR_BGR2GRAY)\n",
    "\n",
    "### Function 3:\n",
    "    # Saves the new file aka the filtered picture\n",
    "    cv2.imwrite(output_folder + \"gray_image.jpg\", gray)\n",
    "    print(output_folder)\n",
    "    \n",
    "    print(\"Image saved at:  \" + output_folder + \"gray_image.jpg\")"
   ]
  },
  {
   "cell_type": "code",
   "execution_count": null,
   "metadata": {},
   "outputs": [],
   "source": []
  },
  {
   "cell_type": "code",
   "execution_count": 65,
   "metadata": {},
   "outputs": [
    {
     "name": "stdout",
     "output_type": "stream",
     "text": [
      "../Output Folder/\n",
      "Image saved at:  ../Output Folder/gray_image.jpg\n"
     ]
    }
   ],
   "source": [
    "input_folder = \"/Users/laurenbanawa/Desktop/Input Folder\"\n",
    "output_folder = \"../Output Folder/\"\n",
    "filter_type = \"gray\"\n",
    "\n",
    "run_project(input_folder, output_folder, filter_type)\n"
   ]
  },
  {
   "cell_type": "code",
   "execution_count": 89,
   "metadata": {},
   "outputs": [],
   "source": [
    "# example of using a for loop instead of list comprehension\n",
    "arrays = []\n",
    "for file in files:\n",
    "    arrays.append(cv2.imread(file))"
   ]
  },
  {
   "cell_type": "code",
   "execution_count": null,
   "metadata": {},
   "outputs": [],
   "source": []
  },
  {
   "cell_type": "code",
   "execution_count": null,
   "metadata": {},
   "outputs": [],
   "source": []
  },
  {
   "cell_type": "markdown",
   "metadata": {},
   "source": [
    "## Functions on Multiple Files:"
   ]
  },
  {
   "cell_type": "code",
   "execution_count": 2,
   "metadata": {},
   "outputs": [],
   "source": [
    "input_folder = \"/Users/laurenbanawa/Desktop/Input Folder\"\n",
    "output_folder = \"../Output Folder/\"\n",
    "filter_type = \"gray\""
   ]
  },
  {
   "cell_type": "code",
   "execution_count": 6,
   "metadata": {},
   "outputs": [],
   "source": [
    "from glob import glob\n",
    "import cv2\n",
    "import numpy as np\n",
    "\n",
    "\n",
    "def read_files(folder_path):\n",
    "    \"\"\"Read image files in a specified input folder.\n",
    "    Arguments:\n",
    "        folder_path{str} -- path to the folder holding the original images to be read\n",
    "    Returns:\n",
    "        arrays{list} -- list of images converted to numpy arrays\n",
    "        files{list} -- list of file paths as strings\n",
    "    \"\"\"\n",
    "    files = glob(folder_path + \"/*\")\n",
    "    arrays = [cv2.imread(file) for file in files]\n",
    "    return arrays, files\n",
    "\n",
    "    \n",
    "def grayscale_filter(filters_input):\n",
    "    \"\"\"Apply grayscale filter to the input images if filter_type == 'gray'.\n",
    "    Arguments: \n",
    "        filters_input{list} -- list of numpy arrays of the input images\n",
    "    Returns:\n",
    "        gray_output{list} -- list of modified numpy arrays after grayscale filter is applied\n",
    "    \"\"\"\n",
    "    gray_output = [cv2.cvtColor(single_array, cv2.COLOR_BGR2GRAY) for single_array in filters_input]\n",
    "    return gray_output\n",
    "\n",
    "    \n",
    "# sepia_filter sourced from -- https://yabirgb.com/blog/creating-a-sepia-filter-with-python/\n",
    "def sepia_filter(filters_input:list)->list:\n",
    "    \"\"\"Apply sepia filter to the input images if filter_type == 'sepia'.\n",
    "    Arguments: \n",
    "        filters_input{list} -- list of numpy arrays of the input images\n",
    "    Returns:\n",
    "        sepia_output{list} -- list of modified numpy arrays after sepia filter is applied\n",
    "    \"\"\"\n",
    "    sepia_output = []\n",
    "    for single_array in filters_input:\n",
    "        # Apply a transformation where we multiply each pixel \n",
    "        # bgr with the matrix transformation for the sepia\n",
    "        lmap = np.matrix([[ 00.272, 0.534, 0.131],\n",
    "                          [ 0.349, 0.686, 0.168],\n",
    "                          [ 0.393, 0.769, 0.189]])\n",
    "        filt = np.array([x * lmap.T for x in single_array] )\n",
    "        # Check which entries have a value greather than 255 and set it to 255\n",
    "        filt[np.where(filt>255)] = 255\n",
    "        sepia_output.append(filt)\n",
    "    return sepia_output\n",
    "\n",
    "\n",
    "def save_files(filtered_photos_to_save, file_names, output_folder):\n",
    "    \"\"\"Convert modified numpy arrays into images and save as original file name plus filter_type to a specified output folder.\n",
    "    Arguments:\n",
    "        filtered_photos_to_save{list} -- list of modified numpy arrays \n",
    "        file_names{list} -- list of strings -- image file paths showing original image name\n",
    "        output_folder{str} -- path to the folder to save the output images\n",
    "    Returns:\n",
    "        None -- modified images saved in designated output folder\n",
    "    \"\"\" \n",
    "    for photo,f_name in zip(filtered_photos_to_save, file_names):\n",
    "        # .format function turns input into a str and puts that str into position where the brackets are\n",
    "        output_path = output_folder + f_name.split('/')[-1].replace('.','_{}.'.format(filter_type))\n",
    "        cv2.imwrite(output_path, photo) \n",
    "        \n",
    "\n",
    "def run_filter(input_folder, output_folder, filter_type):\n",
    "    \"\"\"Read files in the input_folder, run the specified filter_type on each image file and save new images to output_folder.\n",
    "    Arguments:\n",
    "        input_folder{str} -- path to the folder holding the input images\n",
    "        ouput_folder{str} -- path to the folder to save the output images\n",
    "        filter_type{str} --  filter to be run on images, 'gray' or 'sepia'\n",
    "    Returns:\n",
    "        None -- modified images saved in designated output folder\n",
    "    \"\"\"\n",
    "    filters_input, file_names = read_files(input_folder)\n",
    "    if filter_type == \"gray\":\n",
    "        filtered_photos_to_save = grayscale_filter(filters_input)\n",
    "    if filter_type == \"sepia\":\n",
    "        filtered_photos_to_save = sepia_filter(filters_input)   \n",
    "    save_files(filtered_photos_to_save, file_names, output_folder)"
   ]
  },
  {
   "cell_type": "code",
   "execution_count": 3,
   "metadata": {},
   "outputs": [],
   "source": [
    "filters_input, file_names = read_files(input_folder)"
   ]
  },
  {
   "cell_type": "code",
   "execution_count": 9,
   "metadata": {},
   "outputs": [],
   "source": [
    "run_filter(input_folder, output_folder, filter_type)"
   ]
  },
  {
   "cell_type": "code",
   "execution_count": null,
   "metadata": {},
   "outputs": [],
   "source": []
  },
  {
   "cell_type": "code",
   "execution_count": null,
   "metadata": {},
   "outputs": [],
   "source": []
  },
  {
   "cell_type": "markdown",
   "metadata": {},
   "source": [
    "# Helpful Notes:"
   ]
  },
  {
   "cell_type": "code",
   "execution_count": 5,
   "metadata": {},
   "outputs": [],
   "source": [
    "# this changes the amount of zeroes before a value so it can be in the correct order when saved as a file\n",
    "#str(5).zfill(10)"
   ]
  },
  {
   "cell_type": "code",
   "execution_count": 6,
   "metadata": {},
   "outputs": [],
   "source": [
    "# shows pixel dimensions of the image\n",
    "#gray.shape"
   ]
  },
  {
   "cell_type": "code",
   "execution_count": 60,
   "metadata": {},
   "outputs": [
    {
     "data": {
      "text/plain": [
       "'/Users/laurenbanawa/Desktop/Python Course'"
      ]
     },
     "execution_count": 60,
     "metadata": {},
     "output_type": "execute_result"
    }
   ],
   "source": [
    "# To find where the computer thinks you are?\n",
    "import os\n",
    "\n",
    "os.getcwd()"
   ]
  },
  {
   "cell_type": "code",
   "execution_count": null,
   "metadata": {},
   "outputs": [],
   "source": [
    "# example of good documentation format\n",
    "\n",
    "def get_orientation(crop, min_ratio=1.15):\n",
    "    \"\"\"Decide whether to perform a landscape or portrait\n",
    "    crop based on the width to height ratio of the passed\n",
    "    crop.\n",
    "    Arguments:\n",
    "        crop {list[int]} -- minimum and maximum y and x crop coordinates, respectively\n",
    "        min_ratio {float} -- minimum height-to-width ratio required to define the crop as portrait\n",
    "    Returns:\n",
    "        str -- image orientation, either 'landscape' or 'portrait'\n",
    "    \"\"\"\n",
    "    y_min, x_min, y_max, x_max = crop\n",
    "    # If tight crop is clearly taller than wider\n",
    "    if abs(y_max - y_min) > min_ratio * abs(x_max - x_min):\n",
    "        orientation = 'portrait'\n",
    "    else:\n",
    "        orientation = 'landscape'\n",
    "    return orientation"
   ]
  },
  {
   "cell_type": "code",
   "execution_count": null,
   "metadata": {},
   "outputs": [],
   "source": []
  },
  {
   "cell_type": "code",
   "execution_count": null,
   "metadata": {},
   "outputs": [],
   "source": []
  },
  {
   "cell_type": "markdown",
   "metadata": {},
   "source": [
    "# Tests:"
   ]
  },
  {
   "cell_type": "code",
   "execution_count": 32,
   "metadata": {},
   "outputs": [],
   "source": [
    "## ORIGINAL:\n",
    "def read_files(folder_path):\n",
    "    \"\"\"Read image files in a specified input folder.\n",
    "    Arguments:\n",
    "        folder_path{str} -- path to the folder holding the original images to be read\n",
    "    Returns:\n",
    "        arrays{list} -- list of images converted to numpy arrays\n",
    "        files{list} -- list of file paths as strings\n",
    "    \"\"\"\n",
    "    if type(folder_path) != str:\n",
    "        print(\"Input folder must be a string.\")\n",
    "    else:\n",
    "        files = glob(folder_path + \"/*\")\n",
    "        \n",
    "        if len(files) == 0:\n",
    "            print(\"Input a valid folder path\")\n",
    "        else:\n",
    "            arrays = [cv2.imread(file) for file in files]\n",
    "            return arrays, files\n",
    "\n",
    "## TEST FUNCTIONS:"
   ]
  },
  {
   "cell_type": "code",
   "execution_count": 33,
   "metadata": {},
   "outputs": [],
   "source": [
    "# Test 1: input not a string\n",
    "\n",
    "def test__read_files__not_string():\n",
    "    test_cases = [1,    #integer\n",
    "                  0.02, #float\n",
    "                  [0,0],# list\n",
    "                 {\"test\":\"test\"}  #dictionary\n",
    "                 ]\n",
    "    \n",
    "    for t in test_cases:\n",
    "        print(t)\n",
    "        read_files(t)\n",
    "        \n",
    "def test__read_files__not_valid_folder():\n",
    "    test_cases = [\"hi\",\n",
    "                 \"./I/Am/Not/A/Folder/\"]\n",
    "    \n",
    "    for t in test_cases:\n",
    "        print(t)\n",
    "        arrays,files = read_files(t)\n",
    "        print(arrays,files)\n",
    "        \n",
    "        \n",
    "def test__read_files__not_image():\n",
    "    \n",
    "    \n",
    "    "
   ]
  },
  {
   "cell_type": "markdown",
   "metadata": {},
   "source": [
    "### Make a test function for if the input is not an image"
   ]
  },
  {
   "cell_type": "code",
   "execution_count": 43,
   "metadata": {},
   "outputs": [],
   "source": [
    "# make a function that makes a text file and csv file to test and then deletes it after testing\n",
    "# Function breakdown brainstorming: \n",
    "    # for t in test cases where t is equal to a created txt file and a created csv file\n",
    "    # files need to be saved in a specified folder to create the folder path as a string to follow same structure as ideal input while only changing the last part of the file path which is the file type\n",
    "    # test cases -- creates the files within it? make a line to append test cases[] with created files?\n",
    "    # run test\n",
    "    # delete files when finished\n",
    "    \n",
    "import pandas as pd\n",
    "import os\n",
    "from glob import glob\n",
    "import cv2\n",
    "import shutil\n",
    "\n",
    "input_folder = \"/Users/laurenbanawa/Desktop/Input Folder\"\n",
    "\n",
    "def read_files(folder_path):\n",
    "    \"\"\"Read image files in a specified input folder.\n",
    "    Arguments:\n",
    "        folder_path{str} -- path to the folder holding the original images to be read\n",
    "    Returns:\n",
    "        arrays{list} -- list of images converted to numpy arrays\n",
    "        files{list} -- list of file paths as strings\n",
    "    \"\"\"\n",
    "    file_types = [\"jpg\", \"jpeg\", \"png\"]\n",
    "    \n",
    "    if type(folder_path) != str:\n",
    "        return False, \"Input folder must be a string.\"\n",
    "    \n",
    "    files = glob(folder_path + \"/*\")\n",
    "        \n",
    "    if len(files) == 0:\n",
    "        return False, \"Input a valid folder path\"\n",
    "    \n",
    "    for file in files:\n",
    "        if file.split('.')[-1] not in file_types:\n",
    "            return False, \"Ayye! Yaar File Tis No Be An Image, Maytee!\"\n",
    "\n",
    "    arrays = [cv2.imread(file) for file in files]\n",
    "    return True, [arrays, files]\n",
    "    \n",
    "def test__read_files__not_image():\n",
    "    expected_output = (False, 'Ayye! Yaar File Tis No Be An Image, Maytee!')\n",
    "    \n",
    "    #make temporary folder for non-image test files\n",
    "    if not os.path.exists('tmp'):\n",
    "        os.makedirs('tmp')\n",
    "    \n",
    "    #create .txt file and save to created folder\n",
    "    text_file = open(\"tmp/phototest.txt\",\"w+\")\n",
    "    for i in range(5): \n",
    "        text_file.write(\"This is line %d\\r\\n\" % (i+1))\n",
    "    text_file.close()\n",
    "    \n",
    "    #create .csv file and save to created folder\n",
    "    pd.DataFrame([1,2,3]).to_csv('tmp/testfile.csv')\n",
    "    \n",
    "    output = read_files('tmp')\n",
    "    \n",
    "    shutil.rmtree('tmp')\n",
    "    \n",
    "    return (output == expected_output)\n",
    "    \n"
   ]
  },
  {
   "cell_type": "code",
   "execution_count": 44,
   "metadata": {},
   "outputs": [
    {
     "data": {
      "text/plain": [
       "True"
      ]
     },
     "execution_count": 44,
     "metadata": {},
     "output_type": "execute_result"
    }
   ],
   "source": [
    "test__read_files__not_image()"
   ]
  },
  {
   "cell_type": "markdown",
   "metadata": {},
   "source": [
    "### Make test function for a success case in save_files function"
   ]
  },
  {
   "cell_type": "code",
   "execution_count": 1,
   "metadata": {},
   "outputs": [],
   "source": [
    "import pandas as pd\n",
    "import os\n",
    "from glob import glob\n",
    "import cv2\n",
    "import shutil\n",
    "\n",
    "input_folder = \"/Users/laurenbanawa/Desktop/Input Folder\"\n",
    "\n",
    "def read_files(folder_path):\n",
    "    \"\"\"Read image files in a specified input folder.\n",
    "    Arguments:\n",
    "        folder_path{str} -- path to the folder holding the original images to be read\n",
    "    Returns:\n",
    "        arrays{list} -- list of images converted to numpy arrays\n",
    "        files{list} -- list of file paths as strings\n",
    "    \"\"\"\n",
    "    file_types = [\"jpg\", \"jpeg\", \"png\"]\n",
    "    \n",
    "    if type(folder_path) != str:\n",
    "        return False, \"Input folder must be a string.\"\n",
    "    \n",
    "    files = glob(folder_path + \"/*\")\n",
    "        \n",
    "    if len(files) == 0:\n",
    "        return False, \"Input a valid folder path\"\n",
    "    \n",
    "    for file in files:\n",
    "        if file.split('.')[-1] not in file_types:\n",
    "            return False, \"Ayye! Yaar File Tis No Be An Image, Maytee!\"\n",
    "\n",
    "    arrays = [cv2.imread(file) for file in files]\n",
    "    return True, [arrays, files]\n",
    "    \n",
    "from PIL import Image\n",
    "def test_for_success_case():\n",
    "    \n",
    "    #make temporary folder for test image files\n",
    "    if not os.path.exists('tmp'):\n",
    "        os.makedirs('tmp')\n",
    "    \n",
    "    #create image file and save to created folder\n",
    "    img = Image.new('RGB', (60, 30), color = 'red')\n",
    "    img.save('tmp/pil_red.png')\n",
    "    img.save('tmp/pil_red.jpg')\n",
    "    img.save('tmp/pil_red.jpeg')\n",
    "    \n",
    "    status, output = read_files('tmp')\n",
    "    \n",
    "    #delete folder and all contents\n",
    "    shutil.rmtree('tmp')\n",
    "    \n",
    "    return status"
   ]
  },
  {
   "cell_type": "code",
   "execution_count": 2,
   "metadata": {},
   "outputs": [
    {
     "data": {
      "text/plain": [
       "True"
      ]
     },
     "execution_count": 2,
     "metadata": {},
     "output_type": "execute_result"
    }
   ],
   "source": [
    "test_for_success_case()"
   ]
  },
  {
   "cell_type": "markdown",
   "metadata": {},
   "source": [
    "### Modify read_files to handle a single file"
   ]
  },
  {
   "cell_type": "code",
   "execution_count": 1,
   "metadata": {},
   "outputs": [],
   "source": [
    "import pandas as pd\n",
    "import os\n",
    "from glob import glob\n",
    "import cv2\n",
    "import shutil\n",
    "from PIL import Image"
   ]
  },
  {
   "cell_type": "code",
   "execution_count": 2,
   "metadata": {},
   "outputs": [],
   "source": [
    "def read_files(folder_path):\n",
    "    \"\"\"Read image files in a specified input folder.\n",
    "    Arguments:\n",
    "        folder_path{str} -- path to the folder holding the original images to be read\n",
    "    Returns:\n",
    "        arrays{list} -- list of images converted to numpy arrays\n",
    "        files{list} -- list of file paths as strings\n",
    "    \"\"\"\n",
    "    file_types = [\"jpg\", \"jpeg\", \"png\"]\n",
    "    \n",
    "    if type(folder_path) != str:\n",
    "        return False, \"Input folder must be a string.\"\n",
    "    \n",
    "    #determine if path is a folder or single image file\n",
    "    if folder_path.split('.')[-1] not in file_types:\n",
    "        files = glob(folder_path + \"/*\")\n",
    "    if folder_path.split('.')[-1] in file_types:\n",
    "        files = glob(folder_path)\n",
    "        \n",
    "    if len(files) == 0:\n",
    "        return False, \"Input a valid folder path\"\n",
    "    \n",
    "    for file in files:\n",
    "        if file.split('.')[-1] not in file_types:\n",
    "            return False, \"Ayye! Yaar File Tis No Be An Image, Maytee!\"\n",
    "\n",
    "    arrays = [cv2.imread(file) for file in files]\n",
    "    return True, [arrays, files]"
   ]
  },
  {
   "cell_type": "code",
   "execution_count": 3,
   "metadata": {
    "collapsed": true,
    "jupyter": {
     "outputs_hidden": true
    }
   },
   "outputs": [
    {
     "name": "stdout",
     "output_type": "stream",
     "text": [
      "/Users/laurenbanawa/Desktop/IMG_0957.jpeg\n"
     ]
    },
    {
     "data": {
      "text/plain": [
       "(True,\n",
       " [[array([[[ 38,  49,  57],\n",
       "           [ 51,  62,  70],\n",
       "           [ 84,  92,  99],\n",
       "           ...,\n",
       "           [126,  96,  95],\n",
       "           [ 63,  32,  33],\n",
       "           [ 43,  12,  15]],\n",
       "   \n",
       "          [[ 42,  53,  61],\n",
       "           [ 54,  65,  73],\n",
       "           [ 58,  68,  75],\n",
       "           ...,\n",
       "           [123,  95,  95],\n",
       "           [ 66,  35,  38],\n",
       "           [ 42,  12,  17]],\n",
       "   \n",
       "          [[137, 151, 157],\n",
       "           [102, 116, 122],\n",
       "           [ 68,  80,  86],\n",
       "           ...,\n",
       "           [121,  94,  97],\n",
       "           [ 63,  32,  41],\n",
       "           [ 57,  27,  38]],\n",
       "   \n",
       "          ...,\n",
       "   \n",
       "          [[ 29,  37,  37],\n",
       "           [ 28,  36,  36],\n",
       "           [ 26,  34,  34],\n",
       "           ...,\n",
       "           [104, 104,  98],\n",
       "           [122, 122, 116],\n",
       "           [140, 140, 134]],\n",
       "   \n",
       "          [[ 29,  37,  37],\n",
       "           [ 30,  38,  38],\n",
       "           [ 28,  36,  36],\n",
       "           ...,\n",
       "           [ 90,  90,  84],\n",
       "           [ 88,  88,  82],\n",
       "           [ 99,  99,  93]],\n",
       "   \n",
       "          [[ 28,  36,  36],\n",
       "           [ 31,  39,  39],\n",
       "           [ 30,  38,  38],\n",
       "           ...,\n",
       "           [130, 130, 124],\n",
       "           [126, 126, 120],\n",
       "           [137, 137, 131]]], dtype=uint8)],\n",
       "  ['/Users/laurenbanawa/Desktop/IMG_0957.jpeg']])"
      ]
     },
     "execution_count": 3,
     "metadata": {},
     "output_type": "execute_result"
    }
   ],
   "source": [
    "read_files(\"/Users/laurenbanawa/Desktop/IMG_0957.jpeg\")"
   ]
  },
  {
   "cell_type": "code",
   "execution_count": 5,
   "metadata": {},
   "outputs": [],
   "source": []
  },
  {
   "cell_type": "code",
   "execution_count": 8,
   "metadata": {},
   "outputs": [],
   "source": [
    "def single_file_test():\n",
    "    #create image file and save to desktop without folder\n",
    "    img = Image.new('RGB', (60, 30), color = 'red')\n",
    "    desktop = os.path.join(os.path.expanduser(\"~\"), \"Desktop\")\n",
    "    filepath = os.path.join(desktop, \"pil_red.png\")\n",
    "    img.save(filepath)\n",
    "    \n",
    "    #pass new file path through read_files() and see if it works\n",
    "    status, output = read_files(filepath)\n",
    "    \n",
    "    #delete file from desktop when finished\n",
    "    if os.path.exists(filepath):\n",
    "        os.remove(filepath)\n",
    "    else:\n",
    "        print(\"The file does not exist\")\n",
    "    \n",
    "    return status"
   ]
  },
  {
   "cell_type": "code",
   "execution_count": 9,
   "metadata": {},
   "outputs": [
    {
     "data": {
      "text/plain": [
       "True"
      ]
     },
     "execution_count": 9,
     "metadata": {},
     "output_type": "execute_result"
    }
   ],
   "source": [
    "single_file_test()"
   ]
  },
  {
   "cell_type": "code",
   "execution_count": null,
   "metadata": {},
   "outputs": [],
   "source": []
  },
  {
   "cell_type": "code",
   "execution_count": null,
   "metadata": {},
   "outputs": [],
   "source": [
    "# SINGLE FILE FEATURE BRAINSTORMING\n",
    "    # function needs to be able to take in a valid file path without a folder (I set it to being from the desktop)\n",
    "    # possibly edit argument to be folder OR single file on desktop\n",
    "    # needs to be able to return array and file of just one file: does this mean it wouldn't be a list or just a list of one?\n",
    "        # so then both the arguments and returns need to be added to or is that out of the question/ detrimental?\n",
    "        \n",
    "    # passed not a string test\n",
    "    # passed valid folder path test\n",
    "    # passed not an image test\n",
    "    \n",
    "    # found that when I removed the \"/*\" from files=glob() it returned the correct file name and array so how can I indicate to get rid of that when its a single file?\n",
    "    # when I ran the single file test with the /* removed from read_files() the status returned as true so I do need to figure out what to do with the /*\n",
    "    \n",
    "    # put in something to find out if the folder_path is a directory and make an if/else statement to decide whether to include /* or not?\n",
    "        # but Desktop is also a directory..."
   ]
  },
  {
   "cell_type": "code",
   "execution_count": 6,
   "metadata": {},
   "outputs": [],
   "source": []
  },
  {
   "cell_type": "code",
   "execution_count": null,
   "metadata": {},
   "outputs": [],
   "source": []
  }
 ],
 "metadata": {
  "kernelspec": {
   "display_name": "Python 3",
   "language": "python",
   "name": "python3"
  },
  "language_info": {
   "codemirror_mode": {
    "name": "ipython",
    "version": 3
   },
   "file_extension": ".py",
   "mimetype": "text/x-python",
   "name": "python",
   "nbconvert_exporter": "python",
   "pygments_lexer": "ipython3",
   "version": "3.7.6"
  }
 },
 "nbformat": 4,
 "nbformat_minor": 4
}
